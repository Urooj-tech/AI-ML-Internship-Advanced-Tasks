{
 "cells": [
  {
   "cell_type": "markdown",
   "id": "393a565d",
   "metadata": {},
   "source": [
    "### **Name:** *`Urooj Fatima`*  \n",
    "### **DHC-ID:** `DHC-29`   \n",
    "### **Domain:** *`AI/ML Engineering Internship Tasks`*  \n",
    "# **`DevelopersHub Corporation`**  \n",
    "\n",
    "# 📌 Task 2: Auto Tagging Support Tickets Using LLM  \n",
    "\n",
    "## 🧠 Problem Statement\n",
    "Organizations often receive a high volume of customer support tickets, written in free text and describing various issues such as billing problems, login errors, or technical glitches. Manually reading and tagging these tickets into categories (e.g., Billing, Authentication, Connectivity, etc.) is time-consuming, inconsistent, and not scalable.\n",
    "\n",
    "## 🚀 Objective\n",
    "Automatically tag support tickets into categories using a large language model (LLM).\n",
    "\n",
    "## 📂 Dataset\n",
    "Free-text Support Ticket Dataset with columns:\n",
    "- `support_query`: The text description of the issue raised by the customer.\n",
    "- `resolution_tag`: The assigned category/label.\n"
   ]
  },
  {
   "cell_type": "code",
   "execution_count": 3,
   "id": "097a2390",
   "metadata": {},
   "outputs": [
    {
     "data": {
      "text/html": [
       "<div>\n",
       "<style scoped>\n",
       "    .dataframe tbody tr th:only-of-type {\n",
       "        vertical-align: middle;\n",
       "    }\n",
       "\n",
       "    .dataframe tbody tr th {\n",
       "        vertical-align: top;\n",
       "    }\n",
       "\n",
       "    .dataframe thead th {\n",
       "        text-align: right;\n",
       "    }\n",
       "</style>\n",
       "<table border=\"1\" class=\"dataframe\">\n",
       "  <thead>\n",
       "    <tr style=\"text-align: right;\">\n",
       "      <th></th>\n",
       "      <th>support_query</th>\n",
       "      <th>resolution_tag</th>\n",
       "    </tr>\n",
       "  </thead>\n",
       "  <tbody>\n",
       "    <tr>\n",
       "      <th>0</th>\n",
       "      <td>Internet is not working since yesterday</td>\n",
       "      <td>Connectivity</td>\n",
       "    </tr>\n",
       "    <tr>\n",
       "      <th>1</th>\n",
       "      <td>Unable to login to my account</td>\n",
       "      <td>Authentication</td>\n",
       "    </tr>\n",
       "    <tr>\n",
       "      <th>2</th>\n",
       "      <td>I was double charged for my subscription</td>\n",
       "      <td>Billing</td>\n",
       "    </tr>\n",
       "    <tr>\n",
       "      <th>3</th>\n",
       "      <td>The mobile app keeps crashing</td>\n",
       "      <td>App Issue</td>\n",
       "    </tr>\n",
       "    <tr>\n",
       "      <th>4</th>\n",
       "      <td>Need help resetting my password</td>\n",
       "      <td>Authentication</td>\n",
       "    </tr>\n",
       "  </tbody>\n",
       "</table>\n",
       "</div>"
      ],
      "text/plain": [
       "                              support_query  resolution_tag\n",
       "0   Internet is not working since yesterday    Connectivity\n",
       "1             Unable to login to my account  Authentication\n",
       "2  I was double charged for my subscription         Billing\n",
       "3             The mobile app keeps crashing       App Issue\n",
       "4           Need help resetting my password  Authentication"
      ]
     },
     "execution_count": 3,
     "metadata": {},
     "output_type": "execute_result"
    }
   ],
   "source": [
    "import pandas as pd\n",
    "from transformers import pipeline\n",
    "from sklearn.metrics import classification_report, confusion_matrix\n",
    "import matplotlib.pyplot as plt\n",
    "import seaborn as sns\n",
    "\n",
    "# Example dataset (replace with your own CSV)\n",
    "data = pd.DataFrame({\n",
    "    'support_query': [\n",
    "        'Internet is not working since yesterday',\n",
    "        'Unable to login to my account',\n",
    "        'I was double charged for my subscription',\n",
    "        'The mobile app keeps crashing',\n",
    "        'Need help resetting my password'\n",
    "    ],\n",
    "    'resolution_tag': [\n",
    "        'Connectivity',\n",
    "        'Authentication',\n",
    "        'Billing',\n",
    "        'App Issue',\n",
    "        'Authentication'\n",
    "    ]\n",
    "})\n",
    "data"
   ]
  },
  {
   "cell_type": "markdown",
   "id": "b91bbd75",
   "metadata": {},
   "source": [
    "## Zero-shot Classification"
   ]
  },
  {
   "cell_type": "code",
   "execution_count": 5,
   "id": "91d2539b",
   "metadata": {},
   "outputs": [
    {
     "name": "stderr",
     "output_type": "stream",
     "text": [
      "Device set to use cpu\n"
     ]
    },
    {
     "data": {
      "text/html": [
       "<div>\n",
       "<style scoped>\n",
       "    .dataframe tbody tr th:only-of-type {\n",
       "        vertical-align: middle;\n",
       "    }\n",
       "\n",
       "    .dataframe tbody tr th {\n",
       "        vertical-align: top;\n",
       "    }\n",
       "\n",
       "    .dataframe thead th {\n",
       "        text-align: right;\n",
       "    }\n",
       "</style>\n",
       "<table border=\"1\" class=\"dataframe\">\n",
       "  <thead>\n",
       "    <tr style=\"text-align: right;\">\n",
       "      <th></th>\n",
       "      <th>support_query</th>\n",
       "      <th>predicted_tags</th>\n",
       "    </tr>\n",
       "  </thead>\n",
       "  <tbody>\n",
       "    <tr>\n",
       "      <th>0</th>\n",
       "      <td>Internet is not working since yesterday</td>\n",
       "      <td>[Connectivity, Billing, Authentication]</td>\n",
       "    </tr>\n",
       "    <tr>\n",
       "      <th>1</th>\n",
       "      <td>Unable to login to my account</td>\n",
       "      <td>[Connectivity, Authentication, App Issue]</td>\n",
       "    </tr>\n",
       "    <tr>\n",
       "      <th>2</th>\n",
       "      <td>I was double charged for my subscription</td>\n",
       "      <td>[Billing, Connectivity, App Issue]</td>\n",
       "    </tr>\n",
       "    <tr>\n",
       "      <th>3</th>\n",
       "      <td>The mobile app keeps crashing</td>\n",
       "      <td>[App Issue, Connectivity, Authentication]</td>\n",
       "    </tr>\n",
       "    <tr>\n",
       "      <th>4</th>\n",
       "      <td>Need help resetting my password</td>\n",
       "      <td>[Authentication, Connectivity, App Issue]</td>\n",
       "    </tr>\n",
       "  </tbody>\n",
       "</table>\n",
       "</div>"
      ],
      "text/plain": [
       "                              support_query  \\\n",
       "0   Internet is not working since yesterday   \n",
       "1             Unable to login to my account   \n",
       "2  I was double charged for my subscription   \n",
       "3             The mobile app keeps crashing   \n",
       "4           Need help resetting my password   \n",
       "\n",
       "                              predicted_tags  \n",
       "0    [Connectivity, Billing, Authentication]  \n",
       "1  [Connectivity, Authentication, App Issue]  \n",
       "2         [Billing, Connectivity, App Issue]  \n",
       "3  [App Issue, Connectivity, Authentication]  \n",
       "4  [Authentication, Connectivity, App Issue]  "
      ]
     },
     "execution_count": 5,
     "metadata": {},
     "output_type": "execute_result"
    }
   ],
   "source": [
    "# Candidate labels (update with your dataset categories)\n",
    "candidate_labels = ['Connectivity', 'Authentication', 'Billing', 'App Issue']\n",
    "\n",
    "# Load zero-shot classification pipeline\n",
    "classifier = pipeline(\"zero-shot-classification\", model=\"facebook/bart-large-mnli\")\n",
    "\n",
    "def get_top3_tags(text):\n",
    "    result = classifier(text, candidate_labels, multi_label=True)\n",
    "    return result['labels'][:3]\n",
    "\n",
    "data['predicted_tags'] = data['support_query'].apply(get_top3_tags)\n",
    "data[['support_query','predicted_tags']]\n"
   ]
  },
  {
   "cell_type": "markdown",
   "id": "2ae0b299",
   "metadata": {},
   "source": [
    "## Evaluation (if ground truth labels are available)"
   ]
  },
  {
   "cell_type": "code",
   "execution_count": 7,
   "id": "6fd24e91",
   "metadata": {},
   "outputs": [
    {
     "name": "stdout",
     "output_type": "stream",
     "text": [
      "                precision    recall  f1-score   support\n",
      "\n",
      "     App Issue       1.00      1.00      1.00         1\n",
      "Authentication       1.00      0.50      0.67         2\n",
      "       Billing       1.00      1.00      1.00         1\n",
      "  Connectivity       0.50      1.00      0.67         1\n",
      "\n",
      "      accuracy                           0.80         5\n",
      "     macro avg       0.88      0.88      0.83         5\n",
      "  weighted avg       0.90      0.80      0.80         5\n",
      "\n"
     ]
    },
    {
     "data": {
      "image/png": "[encoded data removed]",
      "text/plain": [
       "<Figure size 640x480 with 2 Axes>"
      ]
     },
     "metadata": {},
     "output_type": "display_data"
    }
   ],
   "source": [
    "# For evaluation, take top-1 prediction\n",
    "data['predicted_top1'] = data['predicted_tags'].apply(lambda x: x[0] if len(x) > 0 else None)\n",
    "\n",
    "print(classification_report(data['resolution_tag'], data['predicted_top1']))\n",
    "\n",
    "# Confusion matrix\n",
    "cm = confusion_matrix(data['resolution_tag'], data['predicted_top1'], labels=candidate_labels)\n",
    "sns.heatmap(cm, annot=True, fmt='d', xticklabels=candidate_labels, yticklabels=candidate_labels, cmap='Blues')\n",
    "plt.xlabel('Predicted')\n",
    "plt.ylabel('Actual')\n",
    "plt.show()"
   ]
  },
  {
   "cell_type": "markdown",
   "id": "4ae27ed1",
   "metadata": {},
   "source": [
    "## Final Summary\n",
    "- Implemented **zero-shot classification** using BART-MNLI.\n",
    "- Extracted **top-3 probable tags** per support query.\n",
    "- Added evaluation with precision/recall/F1 and confusion matrix.\n",
    "- This notebook can be extended with **few-shot learning** or **fine-tuning**."
   ]
  }
 ],
 "metadata": {
  "kernelspec": {
   "display_name": "Python [conda env:base] *",
   "language": "python",
   "name": "conda-base-py"
  },
  "language_info": {
   "codemirror_mode": {
    "name": "ipython",
    "version": 3
   },
   "file_extension": ".py",
   "mimetype": "text/x-python",
   "name": "python",
   "nbconvert_exporter": "python",
   "pygments_lexer": "ipython3",
   "version": "3.12.7"
  }
 },
 "nbformat": 4,
 "nbformat_minor": 5
}
